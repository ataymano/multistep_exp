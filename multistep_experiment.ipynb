{
 "metadata": {
  "language_info": {
   "codemirror_mode": {
    "name": "ipython",
    "version": 3
   },
   "file_extension": ".py",
   "mimetype": "text/x-python",
   "name": "python",
   "nbconvert_exporter": "python",
   "pygments_lexer": "ipython3",
   "version": "3.8.5-final"
  },
  "orig_nbformat": 2,
  "kernelspec": {
   "name": "python38564bitfd59076926044bd899f4541e1d3f6749",
   "display_name": "Python 3.8.5 64-bit"
  }
 },
 "nbformat": 4,
 "nbformat_minor": 2,
 "cells": [
  {
   "source": [
    "# Helpers"
   ],
   "cell_type": "markdown",
   "metadata": {}
  },
  {
   "cell_type": "code",
   "execution_count": null,
   "metadata": {},
   "outputs": [],
   "source": [
    "import itertools\n",
    "import json\n",
    "import pandas as pd\n",
    "import random\n",
    "import numpy as np\n",
    "import random\n",
    "import matplotlib.pyplot as plt\n",
    "\n",
    "from vowpalwabbit import pyvw\n",
    "\n",
    "class environment:\n",
    "    def __init__(self, means):\n",
    "        self.means = means\n",
    "        self.npeople = self.means.shape[0]\n",
    "        self.narms = self.means.shape[1]\n",
    "\n",
    "        self.arms = [f'| a_{a}' for a in range(self.narms)]\n",
    "        self.people = [f'shared | p_{p}' for p in range(self.npeople)]\n",
    "\n",
    "    def generate(self, cmd, count):\n",
    "        result=[]\n",
    "        vw = pyvw.vw(cmd)\n",
    "        for i in range(count):\n",
    "            p = random.randint(0, self.npeople-1)\n",
    "            row = {}\n",
    "            row['p']=p\n",
    "            pred = vw.predict([vw.example(e) for e in self.get_pred_ex(p)])\n",
    "            pred = np.divide(pred, np.sum(pred))\n",
    "            c = np.random.choice(self.narms, p=pred)\n",
    "            r = int(random.uniform(0,1)<self.means[p][c])\n",
    "            vw.learn([vw.example(e) for e in self.get_learn_ex(p, c, pred[c], r)])\n",
    "            row[f'chosen']=c\n",
    "            row[f'online']=pred[c]\n",
    "            row[f'r']=r\n",
    "            result.append(row)\n",
    "        return result\n",
    "\n",
    "    def get_pred_ex(self, person):\n",
    "        return [self.people[person]] + self.arms\n",
    "\n",
    "    def get_learn_ex(self, person, action, prob, reward):\n",
    "        label=f'{action}:{-reward}:{prob}'\n",
    "        result = self.get_pred_ex(person)\n",
    "        result[action + 1] = f'{label} {result[action + 1]}'\n",
    "        return result\n",
    "\n",
    "\n",
    "class steps_gen:\n",
    "    def __init__(self, steps):\n",
    "        self.steps = steps\n",
    "        self.i = 0\n",
    "\n",
    "    def get(self):\n",
    "        self.i = (self.i + 1) % len(self.steps)\n",
    "        return self.steps[self.i]\n",
    "\n",
    "def cfe(cmd, scenario, env, get_steps, reward_f, name, with_episode_length):\n",
    "    from vowpalwabbit import pyvw\n",
    "    result = []\n",
    "    vw = pyvw.vw(cmd)\n",
    "    remains = get_steps.get()\n",
    "    episode = []\n",
    "    patched=[]\n",
    "    for l in scenario:\n",
    "        episode.append(l)\n",
    "        remains = remains - 1\n",
    "        if remains == 0:\n",
    "            rewards = []\n",
    "\n",
    "            for step in episode:\n",
    "                ex_pred_str = env.get_pred_ex(step['p'])\n",
    "                ex_pred = [vw.example(e) for e in ex_pred_str]\n",
    "                pred=vw.predict(ex_pred)\n",
    "                result.append(pred[step['chosen']])\n",
    "                rewards.append(step['r'])\n",
    "\n",
    "            reward = reward_f(rewards)\n",
    "            for i in range(len(episode)):\n",
    "                ex_learn_str = env.get_learn_ex(episode[i]['p'], episode[i]['chosen'], episode[i]['online'], reward)\n",
    "                ex_learn = [vw.example(e) for e in ex_learn_str]\n",
    "                vw.learn(ex_learn)\n",
    "            \n",
    "            episode=[]\n",
    "            remains=get_steps.get()\n",
    "    return pd.DataFrame({name: result})\n",
    "\n",
    "def plot_action_perf(df, means, prob_columns=['online']):\n",
    "    best = pd.DataFrame([{'p': p, 'best': best} for p, best in enumerate(np.argmax(means, axis=1))])\n",
    "    details = pd.merge(df, best, on='p', how='left')\n",
    "    for prob_column in prob_columns:\n",
    "        for i in range(means.shape[0]):\n",
    "            details[(details['p']==i) & (details['chosen']==details['best'])][prob_column].expanding().mean().plot(label=f'{prob_column}/{i}', logx=True, figsize=(10,6)) \n",
    "    plt.legend() \n",
    "\n",
    "def plot(results, policies):\n",
    "    for p in policies:\n",
    "        (results['r'] * results[p] / results['online']).expanding().mean().plot(logx=True, figsize=(8,6), label=p)\n",
    "    plt.legend()"
   ]
  },
  {
   "source": [
    "# Setup arms configuration"
   ],
   "cell_type": "markdown",
   "metadata": {}
  },
  {
   "cell_type": "code",
   "execution_count": null,
   "metadata": {},
   "outputs": [],
   "source": [
    "npeople = 4\n",
    "narms = 8\n",
    "\n",
    "means = np.random.rand(npeople, narms)\n",
    "print(f'Random perfomance: {np.mean(means)}')\n",
    "print(f'Best performance: {np.max(means, axis=1).mean()}')\n",
    "print(f'Best performance with 0.2 exploration: {np.max(means, axis=1).mean() * 0.8 + 0.2 * np.mean(means)}')"
   ]
  },
  {
   "source": [
    "# Generate some data"
   ],
   "cell_type": "markdown",
   "metadata": {}
  },
  {
   "cell_type": "code",
   "execution_count": null,
   "metadata": {
    "tags": []
   },
   "outputs": [],
   "source": [
    "vw_args='--cb_explore_adf --dsjson --epsilon 0.2 --coin --power_t 0 --quiet --cb_type mtr -q ::'\n",
    "\n",
    "env = environment(means)\n",
    "events = env.generate(vw_args, 1024 * 128)\n",
    "events_df=pd.DataFrame(events)\n",
    "events_df.head()"
   ]
  },
  {
   "cell_type": "code",
   "execution_count": null,
   "metadata": {},
   "outputs": [],
   "source": [
    "plot_action_perf(events_df, means)"
   ]
  },
  {
   "cell_type": "code",
   "execution_count": null,
   "metadata": {},
   "outputs": [],
   "source": [
    "print(f'r_mean = {events_df[\"r\"].mean()}')\n",
    "events_df['r'].expanding().mean().plot(figsize=(10,6), logx=True)"
   ]
  },
  {
   "cell_type": "code",
   "execution_count": null,
   "metadata": {},
   "outputs": [],
   "source": [
    "vw_args='--cb_explore_adf --dsjson --epsilon 0 --coin --power_t 0 --quiet --cb_type mtr -q ::'\n",
    "\n",
    "step1 = cfe(vw_args, events, env, steps_gen([1]), np.mean, '1step', with_episode_length=False)\n",
    "\n",
    "step2mean = cfe(vw_args, events, env, steps_gen([2]), np.mean, '2step.mean', with_episode_length=False)\n",
    "step2sum = cfe(vw_args, events, env, steps_gen([2]), np.sum, '2step.sum', with_episode_length=False)"
   ]
  },
  {
   "cell_type": "code",
   "execution_count": null,
   "metadata": {},
   "outputs": [],
   "source": [
    "step4mean = run(vw_args, events, env, steps_gen([4]), np.mean, '4step.mean', with_episode_length=False)\n",
    "step4sum = run(vw_args, events, env, steps_gen([4]), np.sum, '4step.sum', with_episode_length=False)"
   ]
  },
  {
   "cell_type": "code",
   "execution_count": null,
   "metadata": {},
   "outputs": [],
   "source": [
    "step8mean = run(vw_args, events, env, steps_gen([8]), np.mean, '8step.mean', with_episode_length=False)\n",
    "step8sum = run(vw_args, events, env, steps_gen([8]), np.sum, '8step.sum', with_episode_length=False)"
   ]
  },
  {
   "cell_type": "code",
   "execution_count": null,
   "metadata": {},
   "outputs": [],
   "source": [
    "step16mean = run(vw_args, events, env, steps_gen([16]), np.mean, '16step.mean', with_episode_length=False)\n",
    "step16sum = run(vw_args, events, env, steps_gen([16]), np.sum, '16step.sum', with_episode_length=False)"
   ]
  },
  {
   "cell_type": "code",
   "execution_count": null,
   "metadata": {},
   "outputs": [],
   "source": [
    "results = events_df.join(step1).join(step2mean).join(step2sum).join(step4mean).join(step4sum).join(step8mean).join(step8sum).join(step16mean).join(step16sum)"
   ]
  },
  {
   "cell_type": "code",
   "execution_count": null,
   "metadata": {},
   "outputs": [],
   "source": [
    "plot(results, ['1step', '2step.mean', '2step.sum', '4step.mean', '4step.sum', '8step.mean', '8step.sum', '16step.mean', '16step.sum'])"
   ]
  },
  {
   "cell_type": "code",
   "execution_count": null,
   "metadata": {},
   "outputs": [],
   "source": []
  }
 ]
}